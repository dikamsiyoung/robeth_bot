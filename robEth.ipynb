{
 "metadata": {
  "language_info": {
   "codemirror_mode": {
    "name": "ipython",
    "version": 3
   },
   "file_extension": ".py",
   "mimetype": "text/x-python",
   "name": "python",
   "nbconvert_exporter": "python",
   "pygments_lexer": "ipython3",
   "version": "3.7.6-final"
  },
  "orig_nbformat": 2,
  "kernelspec": {
   "name": "python37664bitbasecondab91cdf57587746d5b7f29fe4a12d1c7a",
   "display_name": "Python 3.7.6 64-bit ('base': conda)"
  }
 },
 "nbformat": 4,
 "nbformat_minor": 2,
 "cells": [
  {
   "cell_type": "markdown",
   "metadata": {},
   "source": [
    "To use this script, fill in the following information."
   ]
  },
  {
   "cell_type": "code",
   "execution_count": 20,
   "metadata": {},
   "outputs": [],
   "source": [
    "# Use your own values from my.telegram.org\n",
    "api_id = 12345678\n",
    "api_hash = 'api_hash from my.telegram.org'  \n",
    "\n",
    "# Bot Information\n",
    "bot_name = 'BitcoinClick_bot'\n",
    "view_ad_command  = '/visit'\n",
    "view_ad_button_number = 0   # Usually the first button\n",
    "\n",
    "# Browser Information\n",
    "OS_LIST = ['win32', 'linux64', 'mac64']   #available options from Google\n",
    "\n",
    "os_version = OS_LIST[0]    #Set OS version from OS_LIST\n",
    "\n",
    "chrome_version = '85.0.4183.87'    #Set Chrome Version\n"
   ]
  },
  {
   "cell_type": "markdown",
   "metadata": {},
   "source": [
    "Setting up Telethon"
   ]
  },
  {
   "cell_type": "code",
   "execution_count": 1,
   "metadata": {},
   "outputs": [],
   "source": [
    "_ = !pip3 install telethon"
   ]
  },
  {
   "cell_type": "code",
   "execution_count": 2,
   "metadata": {
    "tags": []
   },
   "outputs": [
    {
     "output_type": "stream",
     "name": "stdout",
     "text": "Signed in successfully as Dikamsi Young\n"
    }
   ],
   "source": [
    "from telethon import TelegramClient\n",
    "from telethon.sessions import StringSession\n",
    "\n",
    "client = TelegramClient(StringSession(), api_id, api_hash)\n",
    "await client.start()\n",
    "await client.connect()"
   ]
  },
  {
   "cell_type": "code",
   "execution_count": 4,
   "metadata": {},
   "outputs": [],
   "source": [
    "_ = await client.connect()\n",
    "_ = await client.send_message('me', 'Launching robEth')"
   ]
  },
  {
   "cell_type": "code",
   "execution_count": 5,
   "metadata": {},
   "outputs": [
    {
     "output_type": "execute_result",
     "data": {
      "text/plain": "'Launching robEth'"
     },
     "metadata": {},
     "execution_count": 5
    }
   ],
   "source": [
    "_ = await client.connect()\n",
    "test_message = await client.get_messages('me', 1)\n",
    "test_message[0].message"
   ]
  },
  {
   "cell_type": "markdown",
   "metadata": {},
   "source": [
    "### For ETH Ads Bot"
   ]
  },
  {
   "cell_type": "code",
   "execution_count": 24,
   "metadata": {
    "tags": []
   },
   "outputs": [],
   "source": [
    "async def send_message():\n",
    "    time.sleep(35)\n",
    "    await client.connect()\n",
    "    await client.send_message('ETH_Ads_bot', '/viewads')\n",
    "    print('Done!')"
   ]
  },
  {
   "cell_type": "code",
   "execution_count": null,
   "metadata": {},
   "outputs": [],
   "source": [
    "while True:\n",
    "    await send_message()"
   ]
  },
  {
   "cell_type": "markdown",
   "metadata": {},
   "source": [
    "### For BTC Click Bot"
   ]
  },
  {
   "cell_type": "markdown",
   "metadata": {},
   "source": [
    "Send command"
   ]
  },
  {
   "cell_type": "code",
   "execution_count": 7,
   "metadata": {},
   "outputs": [],
   "source": [
    "async def send_command():\n",
    "    await client.connect()\n",
    "    await client.send_message(bot_name, view_ad_command)\n",
    "    print('Command Sent')"
   ]
  },
  {
   "cell_type": "markdown",
   "metadata": {},
   "source": [
    "Get messages"
   ]
  },
  {
   "cell_type": "code",
   "execution_count": 8,
   "metadata": {},
   "outputs": [],
   "source": [
    "async def get_message_url():\n",
    "    await client.connect()\n",
    "    message = await client.get_messages(bot_name, 3)\n",
    "    if message[0] == message[2]:\n",
    "        print('URL: False')\n",
    "        return False\n",
    "    url = message[0].reply_markup.rows[0].buttons[button_number].url\n",
    "    print('Url: ' + url)\n",
    "    return url"
   ]
  },
  {
   "cell_type": "markdown",
   "metadata": {},
   "source": [
    "Delay"
   ]
  },
  {
   "cell_type": "code",
   "execution_count": 21,
   "metadata": {},
   "outputs": [],
   "source": [
    "import time\n",
    "\n",
    "def wait(n):\n",
    "    time.sleep(n)"
   ]
  },
  {
   "cell_type": "markdown",
   "metadata": {},
   "source": [
    "Open browser in background (No captcha)"
   ]
  },
  {
   "cell_type": "code",
   "execution_count": 10,
   "metadata": {
    "tags": []
   },
   "outputs": [],
   "source": [
    "_ = !pip install mechanize\n",
    "\n",
    "import mechanize\n",
    "import http.cookiejar as cookielib\n",
    "\n",
    "# Browser\n",
    "br = mechanize.Browser()\n",
    "\n",
    "# Cookie Jar\n",
    "cj = cookielib.LWPCookieJar()\n",
    "br.set_cookiejar(cj)\n",
    "\n",
    "# Browser options\n",
    "br.set_handle_equiv(True)\n",
    "br.set_handle_gzip(True)\n",
    "br.set_handle_redirect(True)\n",
    "br.set_handle_referer(True)\n",
    "br.set_handle_robots(False)\n",
    "\n",
    "# Follows refresh 0 but not hangs on refresh > 0\n",
    "br.set_handle_refresh(mechanize._http.HTTPRefreshProcessor(), max_time=1)\n",
    "\n",
    "# Want debugging messages?\n",
    "#br.set_debug_http(True)\n",
    "#br.set_debug_redirects(True)\n",
    "#br.set_debug_responses(True)\n",
    "\n",
    "# User-Agent (this is cheating, ok?)\n",
    "br.addheaders = [('User-agent', 'Mozilla/5.0 (X11; U; Linux i686; en-US; rv:1.9.0.1) Gecko/2008071615 Fedora/3.0.1-1.fc9 Firefox/3.0.1')]\n"
   ]
  },
  {
   "cell_type": "code",
   "execution_count": 26,
   "metadata": {},
   "outputs": [],
   "source": [
    "def open_browser(url_link):\n",
    "    r = br.open(url_link)\n",
    "    r.read()\n",
    "    wait(30)\n",
    "    r.close()"
   ]
  },
  {
   "cell_type": "markdown",
   "metadata": {},
   "source": [
    "Open Browser in foreground (Captcha Ads)"
   ]
  },
  {
   "cell_type": "code",
   "execution_count": 11,
   "metadata": {
    "tags": []
   },
   "outputs": [],
   "source": [
    "# Download Chrome Webdriver\n",
    "import wget\n",
    "\n",
    "url = 'https://chromedriver.storage.googleapis.com/' + chrome_version + '/chromedriver_' + os_version + '.zip'\n",
    "filename = 'chromedriver_'+os_version+'.zip'\n",
    "filename = wget.download(url, filename)\n",
    "\n",
    "from zipfile import ZipFile\n",
    "\n",
    "zip = ZipFile(filename)\n",
    "zip.extractall()\n"
   ]
  },
  {
   "cell_type": "code",
   "execution_count": 14,
   "metadata": {
    "tags": []
   },
   "outputs": [],
   "source": [
    "_ = !pip3 install selenium"
   ]
  },
  {
   "cell_type": "code",
   "execution_count": 22,
   "metadata": {
    "tags": []
   },
   "outputs": [],
   "source": [
    "from selenium import webdriver\n",
    "from selenium.webdriver.support.ui import WebDriverWait\n",
    "from selenium.common.exceptions import NoSuchWindowException, WebDriverException\n",
    "\n",
    "def check_browser_window(driver):\n",
    "    return driver.window_handles == []\n",
    "\n",
    "def manual_ad(url):\n",
    "    try:\n",
    "        driver = webdriver.Chrome()\n",
    "        driver.wait = WebDriverWait(driver, float('inf'))\n",
    "        driver.get(url)\n",
    "        driver.wait.until(check_browser_window)\n",
    "        print('User Closed')\n",
    "        driver.quit()\n",
    "        return\n",
    "    except (WebDriverException):\n",
    "        print('User Closed')\n",
    "        driver.quit()\n",
    "        return"
   ]
  },
  {
   "cell_type": "markdown",
   "metadata": {},
   "source": [
    "### Main Loop"
   ]
  },
  {
   "cell_type": "code",
   "execution_count": 27,
   "metadata": {},
   "outputs": [],
   "source": [
    "async def run_loop():\n",
    "    wait(5)\n",
    "    await send_command()\n",
    "    wait(5)\n",
    "    url = await get_message_url()\n",
    "    print(url)\n",
    "    if url == False:\n",
    "        manual_ad(url)\n",
    "    else:\n",
    "        open_browser(url)"
   ]
  },
  {
   "cell_type": "code",
   "execution_count": 112,
   "metadata": {
    "tags": []
   },
   "outputs": [
    {
     "output_type": "stream",
     "name": "stderr",
     "text": "Exception ignored in: <coroutine object run_loop at 0x000001A7C92B98C8>\nTraceback (most recent call last):\n  File \"C:\\ProgramData\\Anaconda3\\lib\\warnings.py\", line 515, in _warn_unawaited_coroutine\n    msg = \"\".join(msg_lines).rstrip(\"\\n\")\nKeyboardInterrupt\nException ignored in: <coroutine object run_loop at 0x000001A7C92B98C8>\nTraceback (most recent call last):\n  File \"C:\\ProgramData\\Anaconda3\\lib\\warnings.py\", line 505, in _warn_unawaited_coroutine\n    f\"coroutine '{coro.__qualname__}' was never awaited\\n\"\nKeyboardInterrupt\n"
    },
    {
     "output_type": "error",
     "ename": "KeyboardInterrupt",
     "evalue": "",
     "traceback": [
      "\u001b[1;31m---------------------------------------------------------------------------\u001b[0m",
      "\u001b[1;31mKeyboardInterrupt\u001b[0m                         Traceback (most recent call last)",
      "\u001b[1;32m<ipython-input-112-85613739f3ac>\u001b[0m in \u001b[0;36m<module>\u001b[1;34m\u001b[0m\n\u001b[0;32m      1\u001b[0m \u001b[1;32mwhile\u001b[0m \u001b[1;32mTrue\u001b[0m\u001b[1;33m:\u001b[0m\u001b[1;33m\u001b[0m\u001b[1;33m\u001b[0m\u001b[0m\n\u001b[1;32m----> 2\u001b[1;33m     \u001b[0mrun_loop\u001b[0m\u001b[1;33m(\u001b[0m\u001b[1;33m)\u001b[0m\u001b[1;33m\u001b[0m\u001b[1;33m\u001b[0m\u001b[0m\n\u001b[0m",
      "\u001b[1;31mKeyboardInterrupt\u001b[0m: "
     ]
    }
   ],
   "source": [
    "while True:\n",
    "    run_loop()"
   ]
  },
  {
   "cell_type": "markdown",
   "metadata": {},
   "source": [
    "### Test"
   ]
  },
  {
   "cell_type": "code",
   "execution_count": 19,
   "metadata": {
    "tags": []
   },
   "outputs": [
    {
     "output_type": "stream",
     "name": "stdout",
     "text": "User Closed\n"
    }
   ],
   "source": [
    "manual_ad('https://www.google.com')"
   ]
  }
 ]
}